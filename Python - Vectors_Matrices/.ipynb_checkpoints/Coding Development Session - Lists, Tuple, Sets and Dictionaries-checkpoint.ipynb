{
 "cells": [
  {
   "cell_type": "markdown",
   "id": "2d9c4e73",
   "metadata": {},
   "source": [
    "# Coding Development Session - 04/12/23 & 26/02/24\n",
    "Author: Vinotharan Annarasa"
   ]
  },
  {
   "cell_type": "markdown",
   "id": "7e4e0ef9",
   "metadata": {},
   "source": [
    "**Aim:** To learn about how one can create vectors and matrix data structures in Python."
   ]
  },
  {
   "cell_type": "markdown",
   "id": "cacc838b",
   "metadata": {},
   "source": [
    "What are the different vector and matrix structures in Python? </n>\n",
    "1. List\n",
    "2. Tuple\n",
    "3. Set\n",
    "4. Dictionary"
   ]
  },
  {
   "cell_type": "markdown",
   "id": "4488d1cc",
   "metadata": {},
   "source": [
    "## Contents <a id=\"toc\"></a>\n",
    "\n",
    "1. [Lists](#section_1) <br>\n",
    "    1.1 [Syntax](#section_1_1) <br>\n",
    "    1.2 [How do we access elements in a list?](#section_1_2) <br>\n",
    "    1.3 [How to add an element to an existing list?](#section_1_3) <br>\n",
    "    1.4 [How to perform the remove, clear and sort opperations? ](#section_1_4) <br>\n",
    "    1.5 [Dangers of mutability](#section_1_5) <br>\n",
    "2. [Tuple](#section_2) <br>\n",
    "    2.1 [Syntax](#section_2_1) <br>\n",
    "    2.2 [How to access elements in a tuple?](#section_2_2) <br>\n",
    "3. [Set](#section_3) <br>\n",
    "    3.1 [Syntax](#section_3_1) <br>\n",
    "    3.2 [Dangers of mutability](#section_3_2) <br>\n",
    "4. [Dictionary](#section_4) <br>\n",
    "    4.1 [Syntax](#section_4_1) <br>\n",
    "    4.2 [How to access elements in the dictionary?](#section_4_2) <br>\n",
    "    4.3 [How to add, update and remove elements in a dictionary?](#section_4_3) <br>\n",
    "5. [Reference table](#section_5)"
   ]
  },
  {
   "cell_type": "markdown",
   "id": "1348740d",
   "metadata": {},
   "source": [
    "## 1. Lists <a id=\"section_1\"></a>\n",
    "*Return to [Contents](#toc)* <br>"
   ]
  },
  {
   "cell_type": "markdown",
   "id": "c9203f7d",
   "metadata": {},
   "source": [
    "### 1.1 Syntax <a id=\"section_1_1\"></a>"
   ]
  },
  {
   "cell_type": "markdown",
   "id": "9502078a",
   "metadata": {},
   "source": [
    "Lists are represented using '[' and  ']', i.e., caseType = ['S78', 'S174', 'S20', 'S39']"
   ]
  },
  {
   "cell_type": "code",
   "execution_count": null,
   "id": "5ac1242c",
   "metadata": {},
   "outputs": [],
   "source": [
    "caseType = ['S78', 'S174', 'S20', 'S39']\n",
    "caseType"
   ]
  },
  {
   "cell_type": "code",
   "execution_count": null,
   "id": "32531d1e",
   "metadata": {},
   "outputs": [],
   "source": [
    "caseType_S78_UCM = [\"S78\", \"HAS\", 8194] #Demonstrating that the list is capable of handling multiple data types\n",
    "caseType_S78_UCM"
   ]
  },
  {
   "cell_type": "code",
   "execution_count": null,
   "id": "c72644c5",
   "metadata": {},
   "outputs": [],
   "source": [
    "listNum1 = [1, 2, 3, 3] #Demostrating that the list can have duplicates in there\n",
    "listNum1"
   ]
  },
  {
   "cell_type": "code",
   "execution_count": null,
   "id": "8318b93f",
   "metadata": {
    "scrolled": true
   },
   "outputs": [],
   "source": [
    "listNum2 = [3, 2, 1, 3]\n",
    "listNum2"
   ]
  },
  {
   "cell_type": "code",
   "execution_count": null,
   "id": "5167345f",
   "metadata": {
    "scrolled": true
   },
   "outputs": [],
   "source": [
    "#Order matters!\n",
    "listNum1 == listNum2 #Boolean operation to check whether if these lists are the same!"
   ]
  },
  {
   "cell_type": "markdown",
   "id": "724e1b73",
   "metadata": {},
   "source": [
    "### 1.2 How do we access elements in a list? <a id=\"section_1_2\"></a>"
   ]
  },
  {
   "cell_type": "code",
   "execution_count": null,
   "id": "eca88528",
   "metadata": {},
   "outputs": [],
   "source": [
    "#How do we access elements in a list?\n",
    "listNum1[0] #To understand that the indexing for Python starts with 0"
   ]
  },
  {
   "cell_type": "code",
   "execution_count": null,
   "id": "32460d77",
   "metadata": {},
   "outputs": [],
   "source": [
    "listNum1[-1]"
   ]
  },
  {
   "cell_type": "code",
   "execution_count": null,
   "id": "2b2b6d63",
   "metadata": {},
   "outputs": [],
   "source": [
    "listNum1[-2]"
   ]
  },
  {
   "cell_type": "code",
   "execution_count": null,
   "id": "3c704498",
   "metadata": {},
   "outputs": [],
   "source": [
    "listNum1[-3]"
   ]
  },
  {
   "cell_type": "code",
   "execution_count": null,
   "id": "433340d4",
   "metadata": {},
   "outputs": [],
   "source": [
    "listNum1[-4]"
   ]
  },
  {
   "cell_type": "code",
   "execution_count": null,
   "id": "8f632ddb",
   "metadata": {
    "scrolled": true
   },
   "outputs": [],
   "source": [
    "listNum1[0:2] #Note here that it is not inclusive of element 2"
   ]
  },
  {
   "cell_type": "code",
   "execution_count": null,
   "id": "7080ee81",
   "metadata": {},
   "outputs": [],
   "source": [
    "listNum1[-4: -1] "
   ]
  },
  {
   "cell_type": "markdown",
   "id": "65beecb0",
   "metadata": {},
   "source": [
    "### 1.3 How to add an element to an existing list? <a id=\"section_1_3\"></a>"
   ]
  },
  {
   "cell_type": "code",
   "execution_count": null,
   "id": "9f94c102",
   "metadata": {},
   "outputs": [],
   "source": [
    "listNum1 #Reminding you what is in the list listNum1"
   ]
  },
  {
   "cell_type": "code",
   "execution_count": null,
   "id": "2b63b24b",
   "metadata": {},
   "outputs": [],
   "source": [
    "listNum1[0] = 0 #Insert \"0\" as the first element\n",
    "listNum1"
   ]
  },
  {
   "cell_type": "code",
   "execution_count": null,
   "id": "5339b5ec",
   "metadata": {},
   "outputs": [],
   "source": [
    "listNum1.insert(2, 100) #Insert \"100\" as the third element!\n",
    "listNum1"
   ]
  },
  {
   "cell_type": "code",
   "execution_count": null,
   "id": "a3bcb88c",
   "metadata": {},
   "outputs": [],
   "source": [
    "listNum1.append(200) #Insert \"200\" to the end of the list!\n",
    "listNum1"
   ]
  },
  {
   "cell_type": "markdown",
   "id": "6d0c0333",
   "metadata": {},
   "source": [
    "### 1.4 How to perform the remove, clear and sort opperations? <a id=\"section_1_4\"></a>"
   ]
  },
  {
   "cell_type": "code",
   "execution_count": null,
   "id": "e21f2b52",
   "metadata": {},
   "outputs": [],
   "source": [
    "caseType #Reminding you what is in the list caseType"
   ]
  },
  {
   "cell_type": "code",
   "execution_count": null,
   "id": "a6fa3206",
   "metadata": {},
   "outputs": [],
   "source": [
    "caseType.remove('S174') #Remove the element 'S174'\n",
    "caseType"
   ]
  },
  {
   "cell_type": "code",
   "execution_count": null,
   "id": "867569d7",
   "metadata": {},
   "outputs": [],
   "source": [
    "caseType.insert(1, 'S174') #Adding the element back in\n",
    "caseType"
   ]
  },
  {
   "cell_type": "code",
   "execution_count": null,
   "id": "13b554b9",
   "metadata": {},
   "outputs": [],
   "source": [
    "caseType.pop(1)\n",
    "caseType"
   ]
  },
  {
   "cell_type": "code",
   "execution_count": null,
   "id": "4b832236",
   "metadata": {},
   "outputs": [],
   "source": [
    "caseType.clear() #Clear the entire list\n",
    "caseType"
   ]
  },
  {
   "cell_type": "code",
   "execution_count": null,
   "id": "a885708b",
   "metadata": {},
   "outputs": [],
   "source": [
    "caseType = ['S78', 'S174', 'S20', 'S39'] #reinitialise caseType\n",
    "caseType"
   ]
  },
  {
   "cell_type": "code",
   "execution_count": null,
   "id": "9662d8ef",
   "metadata": {
    "scrolled": true
   },
   "outputs": [],
   "source": [
    "caseType.sort() #Sort in alphabetical/numerical order\n",
    "caseType"
   ]
  },
  {
   "cell_type": "code",
   "execution_count": null,
   "id": "d789d8a5",
   "metadata": {},
   "outputs": [],
   "source": [
    "caseType.sort(reverse = True) #Sort in reverse alphabetical/numerical order\n",
    "caseType"
   ]
  },
  {
   "cell_type": "markdown",
   "id": "0a0396d6",
   "metadata": {},
   "source": [
    "### 1.5 Dangers of mutability <a id=\"section_1_5\"></a>"
   ]
  },
  {
   "cell_type": "code",
   "execution_count": null,
   "id": "c5024e94",
   "metadata": {},
   "outputs": [],
   "source": [
    "caseType"
   ]
  },
  {
   "cell_type": "code",
   "execution_count": null,
   "id": "dccdd333",
   "metadata": {},
   "outputs": [],
   "source": [
    "caseType2 = caseType"
   ]
  },
  {
   "cell_type": "code",
   "execution_count": null,
   "id": "39f5b04d",
   "metadata": {},
   "outputs": [],
   "source": [
    "caseType2.append('HAS')"
   ]
  },
  {
   "cell_type": "code",
   "execution_count": null,
   "id": "bb323457",
   "metadata": {},
   "outputs": [],
   "source": [
    "caseType2"
   ]
  },
  {
   "cell_type": "code",
   "execution_count": null,
   "id": "16f19ad4",
   "metadata": {},
   "outputs": [],
   "source": [
    "caseType"
   ]
  },
  {
   "cell_type": "markdown",
   "id": "b065f786",
   "metadata": {},
   "source": [
    "## 2. Tuple <a id=\"section_2\"></a>\n",
    "*Return to [Contents](#toc)* <br>"
   ]
  },
  {
   "cell_type": "markdown",
   "id": "693ba1bf",
   "metadata": {},
   "source": [
    "### 2.1 Syntax <a id=\"section_2_1\"></a>"
   ]
  },
  {
   "cell_type": "markdown",
   "id": "83b6e41c",
   "metadata": {},
   "source": [
    "Tuples are represented using '(' and  ')', i.e., caseType = ('S78', 'S174', 'S20', 'S39')"
   ]
  },
  {
   "cell_type": "code",
   "execution_count": null,
   "id": "8d5666d0",
   "metadata": {},
   "outputs": [],
   "source": [
    "caseType = ('S78', 'S174', 'S20', 'S39')\n",
    "caseType"
   ]
  },
  {
   "cell_type": "code",
   "execution_count": null,
   "id": "94d14275",
   "metadata": {},
   "outputs": [],
   "source": [
    "caseType_S78_UCM = (\"S78\", \"HAS\", 8194) #Demonstrating that the tuple is capable of handling multiple data types\n",
    "caseType_S78_UCM"
   ]
  },
  {
   "cell_type": "code",
   "execution_count": null,
   "id": "971eaea6",
   "metadata": {},
   "outputs": [],
   "source": [
    "tupleNum1 = (1,2,3,4,4) #Duplicate elements are allowed\n",
    "tupleNum1"
   ]
  },
  {
   "cell_type": "code",
   "execution_count": null,
   "id": "f03d5cc7",
   "metadata": {},
   "outputs": [],
   "source": [
    "tupleNum2 = (4,3,2,1,4)\n",
    "tupleNum2"
   ]
  },
  {
   "cell_type": "code",
   "execution_count": null,
   "id": "6a6bed19",
   "metadata": {},
   "outputs": [],
   "source": [
    "#Order matters!\n",
    "tupleNum1 == tupleNum2 #Boolean operation to check whether if these tuples are the same!"
   ]
  },
  {
   "cell_type": "markdown",
   "id": "6b4bc38f",
   "metadata": {},
   "source": [
    "### 2.2 How to access elements in a tuple? <a id=\"section_2_2\"></a>"
   ]
  },
  {
   "cell_type": "code",
   "execution_count": null,
   "id": "cb43b76f",
   "metadata": {},
   "outputs": [],
   "source": [
    "caseType #Reminding you what is in the tuple caseType"
   ]
  },
  {
   "cell_type": "code",
   "execution_count": null,
   "id": "5969d4e3",
   "metadata": {},
   "outputs": [],
   "source": [
    "#How do we access elements in a list?\n",
    "tupleNum1[0] #To understand that the indexing for Python starts with 0"
   ]
  },
  {
   "cell_type": "code",
   "execution_count": null,
   "id": "3e7f371e",
   "metadata": {},
   "outputs": [],
   "source": [
    "#Try it out!\n",
    "#tupleNum1[0] = 0 #Tuples are immutable, i.e., you cannot add/edit the tuple. You will have to convert to a list before doing so."
   ]
  },
  {
   "cell_type": "code",
   "execution_count": null,
   "id": "147c6e7c",
   "metadata": {},
   "outputs": [],
   "source": [
    "type(tupleNum1) #check the type of the vector"
   ]
  },
  {
   "cell_type": "code",
   "execution_count": null,
   "id": "62adbad7",
   "metadata": {},
   "outputs": [],
   "source": [
    "tupleNum1 = list(tupleNum1) #convert the tuple to a list\n",
    "type(tupleNum1)"
   ]
  },
  {
   "cell_type": "code",
   "execution_count": null,
   "id": "ceebf15c",
   "metadata": {},
   "outputs": [],
   "source": [
    "tupleNum1[0] = 0 #Edit the zeroth element on the list\n",
    "tupleNum1"
   ]
  },
  {
   "cell_type": "code",
   "execution_count": null,
   "id": "15bcdde2",
   "metadata": {
    "scrolled": true
   },
   "outputs": [],
   "source": [
    "tupleNum1 = tuple(tupleNum1)\n",
    "type(tupleNum1)"
   ]
  },
  {
   "cell_type": "markdown",
   "id": "8451fc65",
   "metadata": {},
   "source": [
    "## 3. Set <a id=\"section_3\"></a>\n",
    "*Return to [Contents](#toc)* <br>"
   ]
  },
  {
   "cell_type": "markdown",
   "id": "a4bba6bf",
   "metadata": {},
   "source": [
    "### 3.1 Syntax <a id=\"section_3_1\"></a>"
   ]
  },
  {
   "cell_type": "markdown",
   "id": "8f701304",
   "metadata": {},
   "source": [
    "Sets are represented using '{' and  '}', i.e., caseType = {'S78', 'S174', 'S20', 'S39'}"
   ]
  },
  {
   "cell_type": "code",
   "execution_count": null,
   "id": "c12718c3",
   "metadata": {},
   "outputs": [],
   "source": [
    "caseType = {'S78', 'S174', 'S20', 'S39', 'S20'} #Note that the duplicate has been ignored\n",
    "caseType"
   ]
  },
  {
   "cell_type": "code",
   "execution_count": null,
   "id": "036b1ef7",
   "metadata": {},
   "outputs": [],
   "source": [
    "type(caseType)"
   ]
  },
  {
   "cell_type": "markdown",
   "id": "82bcb625",
   "metadata": {},
   "source": [
    "### 3.2 Dangers of mutability <a id=\"section_3_2\"></a>"
   ]
  },
  {
   "cell_type": "code",
   "execution_count": null,
   "id": "1223d6fd",
   "metadata": {},
   "outputs": [],
   "source": [
    "caseType2 = caseType"
   ]
  },
  {
   "cell_type": "code",
   "execution_count": null,
   "id": "5ea54255",
   "metadata": {},
   "outputs": [],
   "source": [
    "caseType2"
   ]
  },
  {
   "cell_type": "code",
   "execution_count": null,
   "id": "4adf8872",
   "metadata": {},
   "outputs": [],
   "source": [
    "caseType2"
   ]
  },
  {
   "cell_type": "code",
   "execution_count": null,
   "id": "66308e6c",
   "metadata": {},
   "outputs": [],
   "source": [
    "caseType2.add('CAS')"
   ]
  },
  {
   "cell_type": "code",
   "execution_count": null,
   "id": "8e315812",
   "metadata": {},
   "outputs": [],
   "source": [
    "caseType2"
   ]
  },
  {
   "cell_type": "code",
   "execution_count": null,
   "id": "5dc227dd",
   "metadata": {},
   "outputs": [],
   "source": [
    "caseType"
   ]
  },
  {
   "cell_type": "markdown",
   "id": "21d9d0d7",
   "metadata": {},
   "source": [
    "## 4. Dictionary <a id=\"section_4\"></a>\n",
    "*Return to [Contents](#toc)* <br>"
   ]
  },
  {
   "cell_type": "markdown",
   "id": "3fd22870",
   "metadata": {},
   "source": [
    "### 4.1 Syntax <a id=\"section_4_1\"></a>"
   ]
  },
  {
   "cell_type": "markdown",
   "id": "417f6329",
   "metadata": {},
   "source": [
    "Sets are represented using '{' and  '}', i.e., Dict1={\"module1\":\"busn9690\",\"module2\":\"busn9690\",\"module3\":\"busn9690\",\"course\":\"df\"}\n"
   ]
  },
  {
   "cell_type": "code",
   "execution_count": null,
   "id": "41babd74",
   "metadata": {},
   "outputs": [],
   "source": [
    "Dict1={\"module1\":\"busn9690\",\"module2\":\"busn9690\",\"module3\":\"busn9690\",\"course\":\"df\", \"module2\":\"busn9690\"} #Note that the duplicate has been ignored\n",
    "Dict1 #module1, module2, module3 and course are referece to as keys"
   ]
  },
  {
   "cell_type": "code",
   "execution_count": null,
   "id": "c2fc64ab",
   "metadata": {},
   "outputs": [],
   "source": [
    "type(Dict1)"
   ]
  },
  {
   "cell_type": "markdown",
   "id": "ad169bed",
   "metadata": {},
   "source": [
    "### 4.2 How to access elements in the dictionary? <a id=\"section_4_2\"></a>"
   ]
  },
  {
   "cell_type": "code",
   "execution_count": null,
   "id": "2f18d405",
   "metadata": {},
   "outputs": [],
   "source": [
    "Dict1[\"module2\"] #We access elements using keys"
   ]
  },
  {
   "cell_type": "markdown",
   "id": "121c288a",
   "metadata": {},
   "source": [
    "### 4.3 How to add, update and remove elements in a dictionary? <a id=\"section_4_3\"></a>"
   ]
  },
  {
   "cell_type": "code",
   "execution_count": null,
   "id": "383e4484",
   "metadata": {},
   "outputs": [],
   "source": [
    "Dict1[\"Grade\"] = 65 #Add in a new key\n",
    "Dict1"
   ]
  },
  {
   "cell_type": "code",
   "execution_count": null,
   "id": "ecb65bd8",
   "metadata": {},
   "outputs": [],
   "source": [
    "Dict1[\"module2\"]"
   ]
  },
  {
   "cell_type": "code",
   "execution_count": null,
   "id": "87976acf",
   "metadata": {},
   "outputs": [],
   "source": [
    "Dict1.update({\"module2\" : \"busn9691\"}) #Update the key \"module2\"\n",
    "Dict1[\"module2\"]"
   ]
  },
  {
   "cell_type": "code",
   "execution_count": null,
   "id": "2f462de4",
   "metadata": {},
   "outputs": [],
   "source": [
    "Dict1"
   ]
  },
  {
   "cell_type": "code",
   "execution_count": null,
   "id": "ac26993a",
   "metadata": {},
   "outputs": [],
   "source": [
    "Dict1.pop(\"module3\") #Remove module3 key from the dictionary\n",
    "Dict1"
   ]
  },
  {
   "cell_type": "markdown",
   "id": "ed002946",
   "metadata": {},
   "source": [
    "## 5. Reference table <a id=\"section_5\"></a>\n",
    "*Return to [Contents](#toc)* <br>"
   ]
  },
  {
   "attachments": {
    "image.png": {
     "image/png": "[encoded data removed]"
    }
   },
   "cell_type": "markdown",
   "id": "05412f3d",
   "metadata": {},
   "source": [
    "![image.png](attachment:image.png)"
   ]
  }
 ],
 "metadata": {
  "kernelspec": {
   "display_name": "Python 3 (ipykernel)",
   "language": "python",
   "name": "python3"
  },
  "language_info": {
   "codemirror_mode": {
    "name": "ipython",
    "version": 3
   },
   "file_extension": ".py",
   "mimetype": "text/x-python",
   "name": "python",
   "nbconvert_exporter": "python",
   "pygments_lexer": "ipython3",
   "version": "3.9.13"
  }
 },
 "nbformat": 4,
 "nbformat_minor": 5
}
